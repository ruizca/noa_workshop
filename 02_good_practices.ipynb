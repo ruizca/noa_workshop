{
 "cells": [
  {
   "cell_type": "markdown",
   "metadata": {},
   "source": [
    "Good Practices Writing Python\n",
    "========================="
   ]
  },
  {
   "cell_type": "markdown",
   "metadata": {},
   "source": [
    "Readibility counts\n",
    "------------------\n",
    "\n",
    "Try to follow the Style Guide for Python Code\n",
    "\n",
    "PEP8: https://www.python.org/dev/peps/pep-0008/"
   ]
  },
  {
   "cell_type": "markdown",
   "metadata": {},
   "source": [
    "Bad:"
   ]
  },
  {
   "cell_type": "code",
   "execution_count": 1,
   "metadata": {},
   "outputs": [
    {
     "name": "stdout",
     "output_type": "stream",
     "text": [
      "500\n"
     ]
    }
   ],
   "source": [
    "x=300\n",
    "y=[ 200,100 ]\n",
    "z=x+y [0]\n",
    "print (z)"
   ]
  },
  {
   "cell_type": "markdown",
   "metadata": {},
   "source": [
    "Good:"
   ]
  },
  {
   "cell_type": "code",
   "execution_count": null,
   "metadata": {},
   "outputs": [],
   "source": [
    "x = 300\n",
    "y = [200, 100]\n",
    "z = x + y[0]\n",
    "print(z)"
   ]
  },
  {
   "cell_type": "markdown",
   "metadata": {},
   "source": [
    "Avoid string concatenation with + operator\n",
    "--------------------------------------------------------------"
   ]
  },
  {
   "cell_type": "code",
   "execution_count": 2,
   "metadata": {},
   "outputs": [
    {
     "name": "stdout",
     "output_type": "stream",
     "text": [
      "I am Arthur, King of the Britons!\n"
     ]
    }
   ],
   "source": [
    "name = 'Arthur'\n",
    "people = 'Britons'\n",
    "\n",
    "quote = 'I am ' + name + ', King of the ' + people + '!'\n",
    "print(quote)"
   ]
  },
  {
   "cell_type": "code",
   "execution_count": 4,
   "metadata": {},
   "outputs": [
    {
     "name": "stdout",
     "output_type": "stream",
     "text": [
      "I am Arthur, King of the Britons!\n"
     ]
    }
   ],
   "source": [
    "quote = 'I am {}, King of the {}!'.format(name, people)\n",
    "print(quote)"
   ]
  },
  {
   "cell_type": "code",
   "execution_count": 6,
   "metadata": {},
   "outputs": [
    {
     "name": "stdout",
     "output_type": "stream",
     "text": [
      "Arthur, Launcelot, Robin, Bedevere, Galahad\n"
     ]
    }
   ],
   "source": [
    "list_of_characters = ['Arthur', 'Launcelot', 'Robin', 'Bedevere', 'Galahad']\n",
    "\n",
    "characters = ''\n",
    "for character in list_of_characters:\n",
    "    characters += character + ', '\n",
    "\n",
    "characters = characters[:-2]\n",
    "print(characters)"
   ]
  },
  {
   "cell_type": "code",
   "execution_count": 9,
   "metadata": {},
   "outputs": [
    {
     "name": "stdout",
     "output_type": "stream",
     "text": [
      "Arthur Launcelot Robin Bedevere Galahad\n"
     ]
    }
   ],
   "source": [
    "characters = ', '.join(list_of_characters)\n",
    "print(characters)"
   ]
  },
  {
   "cell_type": "markdown",
   "metadata": {},
   "source": [
    "Use *os* and *shutil* modules\n",
    "------------------------------"
   ]
  },
  {
   "cell_type": "code",
   "execution_count": 11,
   "metadata": {},
   "outputs": [
    {
     "name": "stdout",
     "output_type": "stream",
     "text": [
      "/home/alnoah/noa/python_workshop\n"
     ]
    }
   ],
   "source": [
    "import os\n",
    "import shutil\n",
    "\n",
    "print(os.getcwd())"
   ]
  },
  {
   "cell_type": "markdown",
   "metadata": {},
   "source": [
    "Bad:"
   ]
  },
  {
   "cell_type": "code",
   "execution_count": 12,
   "metadata": {},
   "outputs": [
    {
     "data": {
      "text/plain": [
       "0"
      ]
     },
     "execution_count": 12,
     "metadata": {},
     "output_type": "execute_result"
    }
   ],
   "source": [
    "os.system('mkdir ./foo_folder')\n",
    "os.system('rmdir ./foo_folder')"
   ]
  },
  {
   "cell_type": "markdown",
   "metadata": {},
   "source": [
    "Better, but still bad:"
   ]
  },
  {
   "cell_type": "code",
   "execution_count": null,
   "metadata": {},
   "outputs": [],
   "source": [
    "newfolder_path = './foo_folder'\n",
    "os.system('mkdir {}'.format(newfolder_path))\n",
    "os.system('rmdir {}'.format(newfolder_path))"
   ]
  },
  {
   "cell_type": "markdown",
   "metadata": {},
   "source": [
    "Good:"
   ]
  },
  {
   "cell_type": "code",
   "execution_count": 13,
   "metadata": {},
   "outputs": [
    {
     "name": "stdout",
     "output_type": "stream",
     "text": [
      "./foo_folder\n"
     ]
    }
   ],
   "source": [
    "root_path = '.'\n",
    "newfolder_name = 'foo_folder'\n",
    "newfolder_path = os.path.join(root_path, newfolder_name)\n",
    "print(newfolder_path)"
   ]
  },
  {
   "cell_type": "code",
   "execution_count": 14,
   "metadata": {},
   "outputs": [
    {
     "name": "stdout",
     "output_type": "stream",
     "text": [
      "['.ipynb_checkpoints', '02_good_practices.ipynb', '01_data_structures.ipynb', 'foo_folder', 'dummy_file.txt']\n",
      "['.ipynb_checkpoints', '02_good_practices.ipynb', '01_data_structures.ipynb', 'dummy_file.txt']\n"
     ]
    }
   ],
   "source": [
    "os.mkdir(newfolder_path)\n",
    "print(os.listdir(root_path))\n",
    "\n",
    "os.rmdir(newfolder_path)\n",
    "print(os.listdir(root_path))"
   ]
  },
  {
   "cell_type": "code",
   "execution_count": 15,
   "metadata": {},
   "outputs": [
    {
     "name": "stdout",
     "output_type": "stream",
     "text": [
      "foo_folder_top/foo_folder\n"
     ]
    }
   ],
   "source": [
    "root_path = 'foo_folder_top'\n",
    "newfolder_path = os.path.join(root_path, newfolder_name)\n",
    "print(newfolder_path)"
   ]
  },
  {
   "cell_type": "code",
   "execution_count": 16,
   "metadata": {},
   "outputs": [
    {
     "ename": "FileNotFoundError",
     "evalue": "[Errno 2] No such file or directory: 'foo_folder_top/foo_folder'",
     "output_type": "error",
     "traceback": [
      "\u001b[0;31m---------------------------------------------------------------------------\u001b[0m",
      "\u001b[0;31mFileNotFoundError\u001b[0m                         Traceback (most recent call last)",
      "\u001b[0;32m<ipython-input-16-54b36d9381a0>\u001b[0m in \u001b[0;36m<module>\u001b[0;34m\u001b[0m\n\u001b[0;32m----> 1\u001b[0;31m \u001b[0mos\u001b[0m\u001b[0;34m.\u001b[0m\u001b[0mmkdir\u001b[0m\u001b[0;34m(\u001b[0m\u001b[0mnewfolder_path\u001b[0m\u001b[0;34m)\u001b[0m\u001b[0;34m\u001b[0m\u001b[0;34m\u001b[0m\u001b[0m\n\u001b[0m",
      "\u001b[0;31mFileNotFoundError\u001b[0m: [Errno 2] No such file or directory: 'foo_folder_top/foo_folder'"
     ]
    }
   ],
   "source": [
    "os.mkdir(newfolder_path)"
   ]
  },
  {
   "cell_type": "code",
   "execution_count": 21,
   "metadata": {},
   "outputs": [
    {
     "name": "stdout",
     "output_type": "stream",
     "text": [
      "['.ipynb_checkpoints', '02_good_practices.ipynb', '01_data_structures.ipynb', 'dummy_file.txt', 'foo_folder_top']\n"
     ]
    }
   ],
   "source": [
    "os.makedirs(newfolder_path)\n",
    "print(os.listdir('.'))"
   ]
  },
  {
   "cell_type": "code",
   "execution_count": 18,
   "metadata": {},
   "outputs": [
    {
     "name": "stdout",
     "output_type": "stream",
     "text": [
      "['foo_folder']\n"
     ]
    }
   ],
   "source": [
    "print(os.listdir(root_path))"
   ]
  },
  {
   "cell_type": "code",
   "execution_count": 19,
   "metadata": {},
   "outputs": [
    {
     "ename": "OSError",
     "evalue": "[Errno 39] Directory not empty: 'foo_folder_top'",
     "output_type": "error",
     "traceback": [
      "\u001b[0;31m---------------------------------------------------------------------------\u001b[0m",
      "\u001b[0;31mOSError\u001b[0m                                   Traceback (most recent call last)",
      "\u001b[0;32m<ipython-input-19-db2a86dc76e2>\u001b[0m in \u001b[0;36m<module>\u001b[0;34m\u001b[0m\n\u001b[0;32m----> 1\u001b[0;31m \u001b[0mos\u001b[0m\u001b[0;34m.\u001b[0m\u001b[0mrmdir\u001b[0m\u001b[0;34m(\u001b[0m\u001b[0mroot_path\u001b[0m\u001b[0;34m)\u001b[0m\u001b[0;34m\u001b[0m\u001b[0;34m\u001b[0m\u001b[0m\n\u001b[0m",
      "\u001b[0;31mOSError\u001b[0m: [Errno 39] Directory not empty: 'foo_folder_top'"
     ]
    }
   ],
   "source": [
    "os.rmdir(root_path)"
   ]
  },
  {
   "cell_type": "code",
   "execution_count": 20,
   "metadata": {},
   "outputs": [
    {
     "name": "stdout",
     "output_type": "stream",
     "text": [
      "['.ipynb_checkpoints', '02_good_practices.ipynb', '01_data_structures.ipynb', 'dummy_file.txt']\n"
     ]
    }
   ],
   "source": [
    "os.rmdir(newfolder_path)\n",
    "os.rmdir(root_path)\n",
    "print(os.listdir('.'))"
   ]
  },
  {
   "cell_type": "markdown",
   "metadata": {},
   "source": [
    "Or:"
   ]
  },
  {
   "cell_type": "code",
   "execution_count": 22,
   "metadata": {},
   "outputs": [
    {
     "name": "stdout",
     "output_type": "stream",
     "text": [
      "['.ipynb_checkpoints', '02_good_practices.ipynb', '01_data_structures.ipynb', 'dummy_file.txt']\n"
     ]
    }
   ],
   "source": [
    "os.removedirs(newfolder_path)\n",
    "print(os.listdir('.'))"
   ]
  },
  {
   "cell_type": "markdown",
   "metadata": {},
   "source": [
    "Alternatively:"
   ]
  },
  {
   "cell_type": "code",
   "execution_count": null,
   "metadata": {},
   "outputs": [],
   "source": [
    "shutil.rmtree(root_path)\n",
    "print(os.listdir('.'))"
   ]
  },
  {
   "cell_type": "markdown",
   "metadata": {},
   "source": [
    "Use iterators, list comprehension and *itertools*\n",
    "---------------------------------------------------------"
   ]
  },
  {
   "cell_type": "code",
   "execution_count": 23,
   "metadata": {},
   "outputs": [],
   "source": [
    "list_of_characters = ['Arthur', 'Launcelot', 'Robin', 'Bedevere', 'Galahad']\n",
    "list_of_actors = ['Chapman', 'Cleese', 'Idle', 'Jones', 'Palin']"
   ]
  },
  {
   "cell_type": "markdown",
   "metadata": {},
   "source": [
    "Bad:"
   ]
  },
  {
   "cell_type": "code",
   "execution_count": 24,
   "metadata": {},
   "outputs": [
    {
     "name": "stdout",
     "output_type": "stream",
     "text": [
      "Chapman: Arthur\n",
      "Cleese: Launcelot\n",
      "Idle: Robin\n",
      "Jones: Bedevere\n",
      "Palin: Galahad\n"
     ]
    }
   ],
   "source": [
    "for i in range(len(list_of_actors)):\n",
    "    print('{}: {}'.format(list_of_actors[i], list_of_characters[i]))"
   ]
  },
  {
   "cell_type": "markdown",
   "metadata": {},
   "source": [
    "Better:"
   ]
  },
  {
   "cell_type": "code",
   "execution_count": 25,
   "metadata": {},
   "outputs": [
    {
     "name": "stdout",
     "output_type": "stream",
     "text": [
      "Chapman: Arthur\n",
      "Cleese: Launcelot\n",
      "Idle: Robin\n",
      "Jones: Bedevere\n",
      "Palin: Galahad\n"
     ]
    }
   ],
   "source": [
    "for i, actor in enumerate(list_of_actors):\n",
    "    print('{}: {}'.format(actor, list_of_characters[i]))\n",
    "    "
   ]
  },
  {
   "cell_type": "markdown",
   "metadata": {},
   "source": [
    "Best:"
   ]
  },
  {
   "cell_type": "code",
   "execution_count": 26,
   "metadata": {},
   "outputs": [
    {
     "name": "stdout",
     "output_type": "stream",
     "text": [
      "Chapman: Arthur\n",
      "Cleese: Launcelot\n",
      "Idle: Robin\n",
      "Jones: Bedevere\n",
      "Palin: Galahad\n"
     ]
    }
   ],
   "source": [
    "for actor, character in zip(list_of_actors, list_of_characters):\n",
    "    print('{}: {}'.format(actor, character))"
   ]
  },
  {
   "cell_type": "code",
   "execution_count": 27,
   "metadata": {},
   "outputs": [
    {
     "name": "stdout",
     "output_type": "stream",
     "text": [
      "Graham Chapman: Arthur\n",
      "John Cleese: Launcelot\n",
      "Eric Idle: Robin\n",
      "Terry Jones: Bedevere\n",
      "Michael Palin: Galahad\n"
     ]
    }
   ],
   "source": [
    "list_of_actors_name = ['Graham', 'John', 'Eric', 'Terry', 'Michael']\n",
    "\n",
    "iterator_cast = zip(list_of_actors_name,\n",
    "                    list_of_actors,\n",
    "                    list_of_characters)\n",
    "\n",
    "for actor_name, actor_surname, character in iterator_cast:\n",
    "    print('{} {}: {}'.format(actor_name, actor_surname, character))"
   ]
  },
  {
   "cell_type": "markdown",
   "metadata": {},
   "source": [
    "You can iterate a string:"
   ]
  },
  {
   "cell_type": "code",
   "execution_count": null,
   "metadata": {},
   "outputs": [],
   "source": [
    "for c in list_of_characters[3]:\n",
    "    print(c)"
   ]
  },
  {
   "cell_type": "markdown",
   "metadata": {},
   "source": [
    "We are going to create a list with the first n integers squared"
   ]
  },
  {
   "cell_type": "code",
   "execution_count": 35,
   "metadata": {},
   "outputs": [],
   "source": [
    "n = 1000"
   ]
  },
  {
   "cell_type": "markdown",
   "metadata": {},
   "source": [
    "Bad:"
   ]
  },
  {
   "cell_type": "code",
   "execution_count": 36,
   "metadata": {},
   "outputs": [
    {
     "name": "stdout",
     "output_type": "stream",
     "text": [
      "581 µs ± 5.69 µs per loop (mean ± std. dev. of 7 runs, 1000 loops each)\n"
     ]
    }
   ],
   "source": [
    "%%timeit\n",
    "squares = []\n",
    "\n",
    "for i in range(n):\n",
    "    squares.append(i**2)"
   ]
  },
  {
   "cell_type": "markdown",
   "metadata": {},
   "source": [
    "Better:"
   ]
  },
  {
   "cell_type": "code",
   "execution_count": 37,
   "metadata": {},
   "outputs": [
    {
     "name": "stdout",
     "output_type": "stream",
     "text": [
      "536 µs ± 3.79 µs per loop (mean ± std. dev. of 7 runs, 1000 loops each)\n"
     ]
    }
   ],
   "source": [
    "%%timeit\n",
    "squares = [None]*n\n",
    "\n",
    "for i in range(n):\n",
    "    squares[i] = i**2"
   ]
  },
  {
   "cell_type": "markdown",
   "metadata": {},
   "source": [
    "Even better (list comprehension):"
   ]
  },
  {
   "cell_type": "code",
   "execution_count": 38,
   "metadata": {},
   "outputs": [
    {
     "name": "stdout",
     "output_type": "stream",
     "text": [
      "514 µs ± 3.8 µs per loop (mean ± std. dev. of 7 runs, 1000 loops each)\n"
     ]
    }
   ],
   "source": [
    "%timeit squares = [i**2 for i in range(n)]"
   ]
  },
  {
   "cell_type": "markdown",
   "metadata": {},
   "source": [
    "You can use conditions with comprehension:"
   ]
  },
  {
   "cell_type": "code",
   "execution_count": null,
   "metadata": {},
   "outputs": [],
   "source": [
    "squares = [i**2 for i in range(n) if i%2 == 0]\n",
    "print(squares)"
   ]
  },
  {
   "cell_type": "markdown",
   "metadata": {},
   "source": [
    "Best (using numpy):"
   ]
  },
  {
   "cell_type": "code",
   "execution_count": 39,
   "metadata": {},
   "outputs": [
    {
     "name": "stdout",
     "output_type": "stream",
     "text": [
      "12.9 µs ± 50.7 ns per loop (mean ± std. dev. of 7 runs, 100000 loops each)\n"
     ]
    }
   ],
   "source": [
    "import numpy as np\n",
    "\n",
    "%timeit squares = np.arange(n)**2"
   ]
  },
  {
   "cell_type": "code",
   "execution_count": 28,
   "metadata": {},
   "outputs": [],
   "source": [
    "list_of_primes = [2, 3, 5, 7, 11]\n",
    "list_of_evens = [1, 2, 4, 6, 8]"
   ]
  },
  {
   "cell_type": "markdown",
   "metadata": {},
   "source": [
    "Bad:"
   ]
  },
  {
   "cell_type": "code",
   "execution_count": 29,
   "metadata": {},
   "outputs": [
    {
     "name": "stdout",
     "output_type": "stream",
     "text": [
      "[2, 4, 8, 12, 16, 3, 6, 12, 18, 24, 5, 10, 20, 30, 40, 7, 14, 28, 42, 56, 11, 22, 44, 66, 88]\n"
     ]
    }
   ],
   "source": [
    "primes_times_evens = []\n",
    "for prime in list_of_primes:\n",
    "    for even in list_of_evens:\n",
    "        primes_times_evens.append(prime*even)\n",
    "\n",
    "print(primes_times_evens)"
   ]
  },
  {
   "cell_type": "code",
   "execution_count": 30,
   "metadata": {},
   "outputs": [
    {
     "name": "stdout",
     "output_type": "stream",
     "text": [
      "[2, 4, 8, 12, 16, 3, 6, 12, 18, 24, 5, 10, 20, 30, 40, 7, 14, 28, 42, 56, 11, 22, 44, 66, 88]\n"
     ]
    }
   ],
   "source": [
    "from itertools import product\n",
    "\n",
    "primes_times_evens = []\n",
    "for prime, even in product(list_of_primes, list_of_evens):\n",
    "    primes_times_evens.append(prime*even)\n",
    "\n",
    "print(primes_times_evens)"
   ]
  },
  {
   "cell_type": "code",
   "execution_count": null,
   "metadata": {},
   "outputs": [],
   "source": [
    "primes_times_evens = [prime*even for prime, even \n",
    "                      in product(list_of_primes, list_of_evens)]\n",
    "\n",
    "print(primes_times_evens)"
   ]
  },
  {
   "cell_type": "code",
   "execution_count": 31,
   "metadata": {},
   "outputs": [
    {
     "name": "stdout",
     "output_type": "stream",
     "text": [
      "(2, 3, 5)\n",
      "(2, 3, 7)\n",
      "(2, 3, 11)\n",
      "(2, 5, 7)\n",
      "(2, 5, 11)\n",
      "(2, 7, 11)\n",
      "(3, 5, 7)\n",
      "(3, 5, 11)\n",
      "(3, 7, 11)\n",
      "(5, 7, 11)\n"
     ]
    }
   ],
   "source": [
    "from itertools import combinations, permutations\n",
    "\n",
    "for c in combinations(list_of_primes, 3):\n",
    "    print(c)"
   ]
  },
  {
   "cell_type": "code",
   "execution_count": 32,
   "metadata": {},
   "outputs": [
    {
     "name": "stdout",
     "output_type": "stream",
     "text": [
      "(2, 3)\n",
      "(2, 5)\n",
      "(2, 7)\n",
      "(2, 11)\n",
      "(3, 2)\n",
      "(3, 5)\n",
      "(3, 7)\n",
      "(3, 11)\n",
      "(5, 2)\n",
      "(5, 3)\n",
      "(5, 7)\n",
      "(5, 11)\n",
      "(7, 2)\n",
      "(7, 3)\n",
      "(7, 5)\n",
      "(7, 11)\n",
      "(11, 2)\n",
      "(11, 3)\n",
      "(11, 5)\n",
      "(11, 7)\n"
     ]
    }
   ],
   "source": [
    "for c in permutations(list_of_primes, 2):\n",
    "    print(c)"
   ]
  },
  {
   "cell_type": "markdown",
   "metadata": {},
   "source": [
    "Use context manager\n",
    "-------------------------------"
   ]
  },
  {
   "cell_type": "markdown",
   "metadata": {},
   "source": [
    "Bad:"
   ]
  },
  {
   "cell_type": "code",
   "execution_count": null,
   "metadata": {},
   "outputs": [],
   "source": [
    "data_file_path = 'dummy_file.txt'\n",
    "\n",
    "if os.path.exists(data_file_path):\n",
    "    data_file = open(data_file_path, 'r')\n",
    "    # Do something with the file\n",
    "    data_file.close()\n",
    "    \n",
    "else:\n",
    "    print(\"File doesn't exist\")"
   ]
  },
  {
   "cell_type": "markdown",
   "metadata": {},
   "source": [
    "Good:"
   ]
  },
  {
   "cell_type": "code",
   "execution_count": null,
   "metadata": {},
   "outputs": [],
   "source": [
    "with open(data_file_path, 'r') as data_file:\n",
    "    # Do something with the file\n",
    "    pass\n",
    "    "
   ]
  },
  {
   "cell_type": "markdown",
   "metadata": {},
   "source": [
    "Use exceptions\n",
    "--------------\n"
   ]
  },
  {
   "cell_type": "code",
   "execution_count": null,
   "metadata": {},
   "outputs": [],
   "source": [
    "if os.path.exists(data_file_path):\n",
    "    data_file = open(data_file_path, 'r')\n",
    "    # Do something with the file\n",
    "    data_file.close()\n",
    "    \n",
    "else:\n",
    "    raise FileNotFoundError(\"File doesn't exist\")"
   ]
  },
  {
   "cell_type": "markdown",
   "metadata": {},
   "source": [
    "In Python, it's better to ask for forgiveness rather than permision:"
   ]
  },
  {
   "cell_type": "code",
   "execution_count": null,
   "metadata": {},
   "outputs": [],
   "source": [
    "try:\n",
    "    with open(data_file_path, 'r') as data_file:\n",
    "        # Do something with the file\n",
    "        pass\n",
    "except:\n",
    "    raise\n",
    "    print(\"File doesn't exist\")\n",
    "    "
   ]
  },
  {
   "cell_type": "markdown",
   "metadata": {},
   "source": [
    "It's better trying to catch the particular exception:"
   ]
  },
  {
   "cell_type": "code",
   "execution_count": null,
   "metadata": {},
   "outputs": [],
   "source": [
    "try:\n",
    "    with open(data_file_path, 'r') as data_file:\n",
    "        # Do something with the file\n",
    "        pass\n",
    "\n",
    "except FileNotFoundError as e:\n",
    "    print(e)"
   ]
  },
  {
   "cell_type": "markdown",
   "metadata": {},
   "source": [
    "You can catch different exceptions:"
   ]
  },
  {
   "cell_type": "code",
   "execution_count": null,
   "metadata": {},
   "outputs": [],
   "source": [
    "try:\n",
    "    with open(data_file_path, 'r') as data_file:\n",
    "        # Do something with the file\n",
    "        pass\n",
    "\n",
    "except FileNotFoundError as e:\n",
    "    print(e)\n",
    "\n",
    "except PermissionError as e:\n",
    "    print(e)"
   ]
  },
  {
   "cell_type": "code",
   "execution_count": null,
   "metadata": {},
   "outputs": [],
   "source": []
  }
 ],
 "metadata": {
  "kernelspec": {
   "display_name": "Python 3",
   "language": "python",
   "name": "python3"
  },
  "language_info": {
   "codemirror_mode": {
    "name": "ipython",
    "version": 3
   },
   "file_extension": ".py",
   "mimetype": "text/x-python",
   "name": "python",
   "nbconvert_exporter": "python",
   "pygments_lexer": "ipython3",
   "version": "3.7.2"
  }
 },
 "nbformat": 4,
 "nbformat_minor": 2
}
